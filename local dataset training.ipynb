{
  "nbformat": 4,
  "nbformat_minor": 0,
  "metadata": {
    "colab": {
      "provenance": [],
      "authorship_tag": "ABX9TyMOx3iJbHQJN2yUSuwkUQWb",
      "include_colab_link": true
    },
    "kernelspec": {
      "name": "python3",
      "display_name": "Python 3"
    },
    "language_info": {
      "name": "python"
    }
  },
  "cells": [
    {
      "cell_type": "markdown",
      "metadata": {
        "id": "view-in-github",
        "colab_type": "text"
      },
      "source": [
        "<a href=\"https://colab.research.google.com/github/VoidEnd315/CNN/blob/main/local%20dataset%20training.ipynb\" target=\"_parent\"><img src=\"https://colab.research.google.com/assets/colab-badge.svg\" alt=\"Open In Colab\"/></a>"
      ]
    },
    {
      "cell_type": "code",
      "source": [
        "!tar -xzvf \"/content/trainingSet.tar.gz\" -C \"/content\""
      ],
      "metadata": {
        "id": "yDwH3jBcI5Q5"
      },
      "execution_count": null,
      "outputs": []
    },
    {
      "cell_type": "code",
      "source": [
        "!tar -xzvf \"/content/testSet.tar.gz\" -C \"/content\""
      ],
      "metadata": {
        "id": "fl4p05DiJRve"
      },
      "execution_count": null,
      "outputs": []
    },
    {
      "cell_type": "code",
      "execution_count": 3,
      "metadata": {
        "id": "IZkGz6gurq9c",
        "colab": {
          "base_uri": "https://localhost:8080/"
        },
        "outputId": "de4dd9ab-b544-4453-9bec-1bc556e1b1ef"
      },
      "outputs": [
        {
          "output_type": "stream",
          "name": "stderr",
          "text": [
            "/usr/local/lib/python3.10/dist-packages/keras/src/layers/convolutional/base_conv.py:107: UserWarning: Do not pass an `input_shape`/`input_dim` argument to a layer. When using Sequential models, prefer using an `Input(shape)` object as the first layer in the model instead.\n",
            "  super().__init__(activity_regularizer=activity_regularizer, **kwargs)\n"
          ]
        },
        {
          "output_type": "stream",
          "name": "stdout",
          "text": [
            "Epoch 1/10\n",
            "\u001b[1m840/840\u001b[0m \u001b[32m━━━━━━━━━━━━━━━━━━━━\u001b[0m\u001b[37m\u001b[0m \u001b[1m30s\u001b[0m 32ms/step - accuracy: 0.8222 - loss: 0.5844 - val_accuracy: 0.9682 - val_loss: 0.1041\n",
            "Epoch 2/10\n",
            "\u001b[1m840/840\u001b[0m \u001b[32m━━━━━━━━━━━━━━━━━━━━\u001b[0m\u001b[37m\u001b[0m \u001b[1m26s\u001b[0m 31ms/step - accuracy: 0.9770 - loss: 0.0744 - val_accuracy: 0.9763 - val_loss: 0.0776\n",
            "Epoch 3/10\n",
            "\u001b[1m840/840\u001b[0m \u001b[32m━━━━━━━━━━━━━━━━━━━━\u001b[0m\u001b[37m\u001b[0m \u001b[1m26s\u001b[0m 31ms/step - accuracy: 0.9837 - loss: 0.0505 - val_accuracy: 0.9778 - val_loss: 0.0701\n",
            "Epoch 4/10\n",
            "\u001b[1m840/840\u001b[0m \u001b[32m━━━━━━━━━━━━━━━━━━━━\u001b[0m\u001b[37m\u001b[0m \u001b[1m41s\u001b[0m 31ms/step - accuracy: 0.9901 - loss: 0.0327 - val_accuracy: 0.9808 - val_loss: 0.0722\n",
            "Epoch 5/10\n",
            "\u001b[1m840/840\u001b[0m \u001b[32m━━━━━━━━━━━━━━━━━━━━\u001b[0m\u001b[37m\u001b[0m \u001b[1m26s\u001b[0m 31ms/step - accuracy: 0.9913 - loss: 0.0265 - val_accuracy: 0.9827 - val_loss: 0.0683\n",
            "Epoch 6/10\n",
            "\u001b[1m840/840\u001b[0m \u001b[32m━━━━━━━━━━━━━━━━━━━━\u001b[0m\u001b[37m\u001b[0m \u001b[1m31s\u001b[0m 36ms/step - accuracy: 0.9928 - loss: 0.0214 - val_accuracy: 0.9874 - val_loss: 0.0530\n",
            "Epoch 7/10\n",
            "\u001b[1m840/840\u001b[0m \u001b[32m━━━━━━━━━━━━━━━━━━━━\u001b[0m\u001b[37m\u001b[0m \u001b[1m46s\u001b[0m 43ms/step - accuracy: 0.9943 - loss: 0.0162 - val_accuracy: 0.9885 - val_loss: 0.0541\n",
            "Epoch 8/10\n",
            "\u001b[1m840/840\u001b[0m \u001b[32m━━━━━━━━━━━━━━━━━━━━\u001b[0m\u001b[37m\u001b[0m \u001b[1m38s\u001b[0m 39ms/step - accuracy: 0.9947 - loss: 0.0143 - val_accuracy: 0.9863 - val_loss: 0.0669\n",
            "Epoch 9/10\n",
            "\u001b[1m840/840\u001b[0m \u001b[32m━━━━━━━━━━━━━━━━━━━━\u001b[0m\u001b[37m\u001b[0m \u001b[1m38s\u001b[0m 35ms/step - accuracy: 0.9961 - loss: 0.0113 - val_accuracy: 0.9890 - val_loss: 0.0539\n",
            "Epoch 10/10\n",
            "\u001b[1m840/840\u001b[0m \u001b[32m━━━━━━━━━━━━━━━━━━━━\u001b[0m\u001b[37m\u001b[0m \u001b[1m38s\u001b[0m 31ms/step - accuracy: 0.9971 - loss: 0.0096 - val_accuracy: 0.9853 - val_loss: 0.0677\n",
            "263/263 - 4s - 14ms/step - accuracy: 0.9839 - loss: 0.0788\n"
          ]
        },
        {
          "output_type": "stream",
          "name": "stderr",
          "text": [
            "WARNING:absl:You are saving your model as an HDF5 file via `model.save()` or `keras.saving.save_model(model)`. This file format is considered legacy. We recommend using instead the native Keras format, e.g. `model.save('my_model.keras')` or `keras.saving.save_model(model, 'my_model.keras')`. \n"
          ]
        },
        {
          "output_type": "stream",
          "name": "stdout",
          "text": [
            "\n",
            "Test accuracy: 0.9839285612106323\n"
          ]
        }
      ],
      "source": [
        "import os\n",
        "import numpy as np\n",
        "import tensorflow as tf\n",
        "from tensorflow.keras import layers, models\n",
        "from tensorflow.keras.preprocessing.image import img_to_array, load_img\n",
        "from sklearn.model_selection import train_test_split\n",
        "\n",
        "# Set random seed for reproducibility\n",
        "np.random.seed(42)\n",
        "tf.random.set_seed(42)\n",
        "\n",
        "# Function to load and preprocess images\n",
        "def load_mnist_from_folder(folder_path):\n",
        "    images = []\n",
        "    labels = []\n",
        "    for digit_folder in os.listdir(folder_path):\n",
        "        digit_path = os.path.join(folder_path, digit_folder)\n",
        "        if os.path.isdir(digit_path):\n",
        "            for img_file in os.listdir(digit_path):\n",
        "                img_path = os.path.join(digit_path, img_file)\n",
        "                img = load_img(img_path, color_mode='grayscale', target_size=(28, 28))\n",
        "                img_array = img_to_array(img)\n",
        "                images.append(img_array)\n",
        "                labels.append(int(digit_folder))\n",
        "    return np.array(images), np.array(labels)\n",
        "\n",
        "# Load and preprocess the data\n",
        "data_folder = '/content/trainingSet'  # Replace with your actual path\n",
        "X, y = load_mnist_from_folder(data_folder)\n",
        "\n",
        "# Normalize pixel values\n",
        "X = X.astype('float32') / 255.0\n",
        "\n",
        "# Split the data into training and testing sets\n",
        "X_train, X_test, y_train, y_test = train_test_split(X, y, test_size=0.2, random_state=42)\n",
        "\n",
        "# Build the CNN model\n",
        "model = models.Sequential([\n",
        "    layers.Conv2D(32, (3, 3), activation='relu', input_shape=(28, 28, 1)),\n",
        "    layers.MaxPooling2D((2, 2)),\n",
        "    layers.Conv2D(64, (3, 3), activation='relu'),\n",
        "    layers.MaxPooling2D((2, 2)),\n",
        "    layers.Conv2D(64, (3, 3), activation='relu'),\n",
        "    layers.Flatten(),\n",
        "    layers.Dense(64, activation='relu'),\n",
        "    layers.Dense(10, activation='softmax')\n",
        "])\n",
        "\n",
        "# Compile the model\n",
        "model.compile(optimizer='adam',\n",
        "              loss='sparse_categorical_crossentropy',\n",
        "              metrics=['accuracy'])\n",
        "\n",
        "# Train the model\n",
        "history = model.fit(X_train, y_train, epochs=10, validation_split=0.2, batch_size=32)\n",
        "\n",
        "# Evaluate the model\n",
        "test_loss, test_acc = model.evaluate(X_test, y_test, verbose=2)\n",
        "print(f'\\nTest accuracy: {test_acc}')\n",
        "\n",
        "# Save the model\n",
        "model.save('mnist_cnn_model.h5')"
      ]
    },
    {
      "cell_type": "code",
      "source": [
        "def predict_digit(model, image_path):\n",
        "    # Load and preprocess the image\n",
        "    img = load_img(image_path, color_mode='grayscale', target_size=(28, 28))\n",
        "    img_array = img_to_array(img)\n",
        "    img_array = img_array.astype('float32') / 255.0\n",
        "    img_array = np.expand_dims(img_array, axis=0)  # Add batch dimension\n",
        "\n",
        "    # Make prediction\n",
        "    prediction = model.predict(img_array)\n",
        "    digit = np.argmax(prediction)\n",
        "    confidence = np.max(prediction)\n",
        "\n",
        "    return digit, confidence\n",
        "\n",
        "# Example usage of the prediction function\n",
        "if __name__ == \"__main__\":\n",
        "    # Load the saved model\n",
        "    loaded_model = tf.keras.models.load_model('mnist_cnn_model.h5')\n",
        "\n",
        "    # Replace with the path to your image file\n",
        "    image_path = '/content/testSet/img_1.jpg'\n",
        "\n",
        "    predicted_digit, confidence = predict_digit(loaded_model, image_path)\n",
        "    print(f\"Predicted digit: {predicted_digit}\")\n",
        "    print(f\"Confidence: {confidence:.2f}\")"
      ],
      "metadata": {
        "colab": {
          "base_uri": "https://localhost:8080/"
        },
        "id": "WAbCftdhDIK6",
        "outputId": "0a447577-cca5-452b-fc27-0f80edd1e835"
      },
      "execution_count": 4,
      "outputs": [
        {
          "output_type": "stream",
          "name": "stderr",
          "text": [
            "WARNING:absl:Compiled the loaded model, but the compiled metrics have yet to be built. `model.compile_metrics` will be empty until you train or evaluate the model.\n"
          ]
        },
        {
          "output_type": "stream",
          "name": "stdout",
          "text": [
            "\u001b[1m1/1\u001b[0m \u001b[32m━━━━━━━━━━━━━━━━━━━━\u001b[0m\u001b[37m\u001b[0m \u001b[1m0s\u001b[0m 91ms/step\n",
            "Predicted digit: 2\n",
            "Confidence: 1.00\n"
          ]
        }
      ]
    }
  ]
}